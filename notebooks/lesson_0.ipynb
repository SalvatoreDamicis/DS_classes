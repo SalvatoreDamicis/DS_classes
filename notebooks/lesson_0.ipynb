{
 "cells": [
  {
   "cell_type": "code",
   "execution_count": 1,
   "metadata": {},
   "outputs": [],
   "source": [
    "import pandas as pd\n",
    "import numpy as np "
   ]
  },
  {
   "cell_type": "markdown",
   "metadata": {},
   "source": [
    "# LESSON 0\n",
    "In this lesson we show the following: \n",
    "- Type of python (int, float, string..)\n",
    "- Data structure in python (List, Set, Dict, Tuple, Array, Dataframe..)\n"
   ]
  },
  {
   "cell_type": "markdown",
   "metadata": {},
   "source": [
    "## Typing\n",
    "In python we can have several type of variable the function *type(object)* allow to know which is the ype of object variable"
   ]
  },
  {
   "cell_type": "code",
   "execution_count": 2,
   "metadata": {},
   "outputs": [
    {
     "name": "stdout",
     "output_type": "stream",
     "text": [
      "<class 'int'>\n",
      "<class 'float'>\n"
     ]
    },
    {
     "data": {
      "text/plain": [
       "str"
      ]
     },
     "execution_count": 2,
     "metadata": {},
     "output_type": "execute_result"
    }
   ],
   "source": [
    "# we can define int\n",
    "pippo_int = 3\n",
    "print(type(pippo_int))\n",
    "# we can define float\n",
    "pippo_float = 3.5\n",
    "print(type(pippo_float))\n",
    "# we can define bool\n",
    "pippo_bool = False\n",
    "type(pippo_bool)\n",
    "# we can define bool\n",
    "pippo_str = '3'\n",
    "type(pippo_str)"
   ]
  },
  {
   "cell_type": "code",
   "execution_count": 3,
   "metadata": {},
   "outputs": [
    {
     "name": "stdout",
     "output_type": "stream",
     "text": [
      "pippo_float to int ->  3\n",
      "pippo_int to float ->  3.0\n",
      "pippo_int to str ->  3\n",
      "pippo_float to bool ->  True\n",
      "zero to bool ->  False\n",
      "pippo_str to int ->  3\n",
      "pippo_str to float ->  3\n"
     ]
    }
   ],
   "source": [
    "# we can transform a type \n",
    "print('pippo_float to int -> ',int(pippo_float))\n",
    "print('pippo_int to float -> ',float(pippo_int))\n",
    "print('pippo_int to str -> ',str(pippo_int))\n",
    "print('pippo_float to bool -> ',bool(pippo_float))\n",
    "print('zero to bool -> ',bool(0))\n",
    "print('pippo_str to int -> ',int(pippo_str))\n",
    "print('pippo_str to float -> ',str(pippo_str))"
   ]
  },
  {
   "cell_type": "code",
   "execution_count": 5,
   "metadata": {},
   "outputs": [
    {
     "name": "stdout",
     "output_type": "stream",
     "text": [
      "3\n",
      "hello world\n",
      "1\n"
     ]
    }
   ],
   "source": [
    "# sum type \n",
    "one = 1\n",
    "two = 2\n",
    "three = one + two\n",
    "print(three)\n",
    "\n",
    "hello = \"hello\"\n",
    "world = \"world\"\n",
    "helloworld = hello+ \" \" + world\n",
    "print(helloworld)\n",
    "\n",
    "true = True\n",
    "false = False\n",
    "print(true + false)"
   ]
  },
  {
   "cell_type": "code",
   "execution_count": 6,
   "metadata": {},
   "outputs": [
    {
     "data": {
      "text/plain": [
       "__main__.Car"
      ]
     },
     "execution_count": 6,
     "metadata": {},
     "output_type": "execute_result"
    }
   ],
   "source": [
    "class Car:\n",
    "    def __init__(self, brand_, km_) -> None:\n",
    "        self.brand = brand_\n",
    "        self.km = km_\n",
    "    \n",
    "    def return_km(self):\n",
    "        print(self.km)\n",
    "\n",
    "Salvatore_car = Car('Clio', 120_000)\n",
    "Batman_car = Car('Batmobile', 100_000)         \n",
    "type(Salvatore_car)"
   ]
  },
  {
   "cell_type": "markdown",
   "metadata": {},
   "source": [
    "## Data Structures"
   ]
  },
  {
   "cell_type": "markdown",
   "metadata": {},
   "source": [
    "##### List \n",
    "List is ordered collection of items. Mutabile e Ordinata. It is define by a \"[ ]\" "
   ]
  },
  {
   "cell_type": "code",
   "execution_count": 14,
   "metadata": {},
   "outputs": [
    {
     "data": {
      "text/plain": [
       "[1, 2, 3, 'hello', 3.5]"
      ]
     },
     "execution_count": 14,
     "metadata": {},
     "output_type": "execute_result"
    }
   ],
   "source": [
    "list_ = [1, 2, 3, 'hello', 3.5 ]\n",
    "list_two = [list_, list_]\n",
    "\n",
    "list_two[0]"
   ]
  },
  {
   "cell_type": "code",
   "execution_count": 17,
   "metadata": {},
   "outputs": [
    {
     "data": {
      "text/plain": [
       "['value', 2, 3, 3, 3.5]"
      ]
     },
     "execution_count": 17,
     "metadata": {},
     "output_type": "execute_result"
    }
   ],
   "source": [
    "list_[0] = 'value' \n",
    "list_[3] = 3 \n",
    "list_"
   ]
  },
  {
   "cell_type": "code",
   "execution_count": 118,
   "metadata": {},
   "outputs": [
    {
     "data": {
      "text/plain": [
       "[1, 3, 4, 1, 3, 4]"
      ]
     },
     "execution_count": 118,
     "metadata": {},
     "output_type": "execute_result"
    }
   ],
   "source": [
    "[1, 3, 4] + [1, 3, 4] # Le liste non si sommano si concatenano"
   ]
  },
  {
   "cell_type": "code",
   "execution_count": 119,
   "metadata": {},
   "outputs": [
    {
     "data": {
      "text/plain": [
       "['value', 2, 3, 'hello', 3.5, 3]"
      ]
     },
     "execution_count": 119,
     "metadata": {},
     "output_type": "execute_result"
    }
   ],
   "source": [
    "list_.append(3)\n",
    "list_ # l'append è inplace\n"
   ]
  },
  {
   "cell_type": "markdown",
   "metadata": {},
   "source": [
    "##### Tuple\n",
    "Tuple is ordered collection of items. NON Mutabile e Ordinata. It is define by a \"( )\" "
   ]
  },
  {
   "cell_type": "code",
   "execution_count": 18,
   "metadata": {},
   "outputs": [
    {
     "data": {
      "text/plain": [
       "(3, ['value', 2, 3, 3, 3.5])"
      ]
     },
     "execution_count": 18,
     "metadata": {},
     "output_type": "execute_result"
    }
   ],
   "source": [
    "tuple_ = (3, list_)\n",
    "\n",
    "tuple_"
   ]
  },
  {
   "cell_type": "code",
   "execution_count": 21,
   "metadata": {},
   "outputs": [
    {
     "data": {
      "text/plain": [
       "(3, ['value', 2, 3, 3, 3.5], 3)"
      ]
     },
     "execution_count": 21,
     "metadata": {},
     "output_type": "execute_result"
    }
   ],
   "source": [
    "tuple_ + (3, ) #le tuple non si sommano si contatenano "
   ]
  },
  {
   "cell_type": "code",
   "execution_count": 20,
   "metadata": {},
   "outputs": [
    {
     "ename": "TypeError",
     "evalue": "'tuple' object does not support item assignment",
     "output_type": "error",
     "traceback": [
      "\u001b[1;31m---------------------------------------------------------------------------\u001b[0m",
      "\u001b[1;31mTypeError\u001b[0m                                 Traceback (most recent call last)",
      "Cell \u001b[1;32mIn[20], line 1\u001b[0m\n\u001b[1;32m----> 1\u001b[0m \u001b[43mtuple_\u001b[49m\u001b[43m[\u001b[49m\u001b[38;5;241;43m0\u001b[39;49m\u001b[43m]\u001b[49m \u001b[38;5;241m=\u001b[39m \u001b[38;5;124m'\u001b[39m\u001b[38;5;124mvalue\u001b[39m\u001b[38;5;124m'\u001b[39m \n",
      "\u001b[1;31mTypeError\u001b[0m: 'tuple' object does not support item assignment"
     ]
    }
   ],
   "source": [
    "#tuple_[0] = 'value' "
   ]
  },
  {
   "cell_type": "markdown",
   "metadata": {},
   "source": [
    "##### Set\n",
    "Set is non ordered collection of items. non Mutabile e  non Ordinata. It is define by a \"{ }\" "
   ]
  },
  {
   "cell_type": "code",
   "execution_count": 24,
   "metadata": {},
   "outputs": [
    {
     "data": {
      "text/plain": [
       "{0, 2, 3}"
      ]
     },
     "execution_count": 24,
     "metadata": {},
     "output_type": "execute_result"
    }
   ],
   "source": [
    "set_ = {0, 3, 3, 2}\n",
    "set_"
   ]
  },
  {
   "cell_type": "code",
   "execution_count": 25,
   "metadata": {},
   "outputs": [
    {
     "ename": "TypeError",
     "evalue": "unsupported operand type(s) for +: 'set' and 'set'",
     "output_type": "error",
     "traceback": [
      "\u001b[1;31m---------------------------------------------------------------------------\u001b[0m",
      "\u001b[1;31mTypeError\u001b[0m                                 Traceback (most recent call last)",
      "Cell \u001b[1;32mIn[25], line 1\u001b[0m\n\u001b[1;32m----> 1\u001b[0m \u001b[43mset_\u001b[49m\u001b[43m \u001b[49m\u001b[38;5;241;43m+\u001b[39;49m\u001b[43m \u001b[49m\u001b[43mset_\u001b[49m \u001b[38;5;66;03m#i set non si sommano e non si contatenano \u001b[39;00m\n",
      "\u001b[1;31mTypeError\u001b[0m: unsupported operand type(s) for +: 'set' and 'set'"
     ]
    }
   ],
   "source": [
    "#set_ + set_ #i set non si sommano e non si contatenano "
   ]
  },
  {
   "cell_type": "code",
   "execution_count": 26,
   "metadata": {},
   "outputs": [
    {
     "data": {
      "text/plain": [
       "{0}"
      ]
     },
     "execution_count": 26,
     "metadata": {},
     "output_type": "execute_result"
    }
   ],
   "source": [
    "set_.difference({3,2})"
   ]
  },
  {
   "cell_type": "markdown",
   "metadata": {},
   "source": [
    "##### Dict\n",
    "Tuple is ordered collection of key - value items. Mutabile e NON Ordinata. It is define by a \"{key: value}\" "
   ]
  },
  {
   "cell_type": "code",
   "execution_count": 28,
   "metadata": {},
   "outputs": [],
   "source": [
    "dict_ = {'Mele': 20, 'Pere':tuple_, 'Banane': list_}"
   ]
  },
  {
   "cell_type": "code",
   "execution_count": 29,
   "metadata": {},
   "outputs": [
    {
     "data": {
      "text/plain": [
       "{'Mele': 20, 'Pere': 2, 'Banane': ['value', 2, 3, 3, 3.5]}"
      ]
     },
     "execution_count": 29,
     "metadata": {},
     "output_type": "execute_result"
    }
   ],
   "source": [
    "dict_['Pere'] = 2 \n",
    "dict_"
   ]
  },
  {
   "cell_type": "code",
   "execution_count": 30,
   "metadata": {},
   "outputs": [
    {
     "data": {
      "text/plain": [
       "{'Mele': 20, 'Pere': 2, 'Banane': ['value', 2, 3, 3, 3.5], 'Insalata': 100}"
      ]
     },
     "execution_count": 30,
     "metadata": {},
     "output_type": "execute_result"
    }
   ],
   "source": [
    "dict_['Insalata'] = 100\n",
    "dict_ "
   ]
  },
  {
   "cell_type": "code",
   "execution_count": 31,
   "metadata": {},
   "outputs": [
    {
     "name": "stdout",
     "output_type": "stream",
     "text": [
      "dict_keys(['Mele', 'Pere', 'Banane', 'Insalata'])\n",
      "dict_values([20, 2, ['value', 2, 3, 3, 3.5], 100])\n",
      "dict_items([('Mele', 20), ('Pere', 2), ('Banane', ['value', 2, 3, 3, 3.5]), ('Insalata', 100)])\n"
     ]
    }
   ],
   "source": [
    "print(dict_.keys())\n",
    "print(dict_.values())\n",
    "print(dict_.items())"
   ]
  },
  {
   "cell_type": "markdown",
   "metadata": {},
   "source": [
    "##### Array \n",
    "It is a list of number  "
   ]
  },
  {
   "cell_type": "code",
   "execution_count": 35,
   "metadata": {},
   "outputs": [
    {
     "data": {
      "text/plain": [
       "array([ 6,  8, 10])"
      ]
     },
     "execution_count": 35,
     "metadata": {},
     "output_type": "execute_result"
    }
   ],
   "source": [
    "np.array([3,4,5]) + np.array([3,4,5]) # si sommano "
   ]
  },
  {
   "cell_type": "markdown",
   "metadata": {},
   "source": [
    "## Exercise"
   ]
  },
  {
   "cell_type": "markdown",
   "metadata": {},
   "source": [
    "EX 1\n",
    "Creare due tuple che rappresentino i due elenchi di nomi e cognomi descritti sotto:\n",
    "nomi: Numa, Tullo, Anco\n",
    "cognomi: Pompilio, Ostilio, Marzio\n",
    "Ottenere una lista in cui ogni elemento è un dizionario {'nome': nome, 'cognome':\n",
    "cognome}"
   ]
  },
  {
   "cell_type": "markdown",
   "metadata": {},
   "source": [
    "EX 2 \n",
    "Calcolare la somma dei primi 500 numeri naturali (da 0 a 500 escluso)"
   ]
  },
  {
   "cell_type": "markdown",
   "metadata": {},
   "source": [
    "EX 3 \n",
    "Nella Successione di Fibonacci, ciascun numero è la somma dei due numeri che lo precedono, ad esempio:\n",
    "\n",
    "1, 1, 2, 3, 5, 8, 13 (...)\n",
    "\n",
    "Scrivi una funzione ricorsiva che restituisce in output i numeri della successione di Fibonacci, entro una soglia specifica impostata dall'utente."
   ]
  },
  {
   "cell_type": "markdown",
   "metadata": {},
   "source": [
    "EX 4\n",
    "Scrivi una funzione a cui viene passata una parola e riconosce se si tratta di un palindromo (parole che si leggono uguali anche al contrario) oppure no."
   ]
  },
  {
   "cell_type": "markdown",
   "metadata": {},
   "source": [
    "EX 5 \n",
    "Scrivere una funzione che elimini gli elementi duplicati di una lista, ma preservi l'ordine. "
   ]
  },
  {
   "cell_type": "markdown",
   "metadata": {},
   "source": [
    "EX 6 \n",
    "Scrivere una funzione conta_caratteri(s) che ritorni un dizionario contenente il numero di occorrenze per ciascun carattere presente nella stringa s:"
   ]
  },
  {
   "cell_type": "markdown",
   "metadata": {},
   "source": []
  }
 ],
 "metadata": {
  "kernelspec": {
   "display_name": ".venv",
   "language": "python",
   "name": "python3"
  },
  "language_info": {
   "codemirror_mode": {
    "name": "ipython",
    "version": 3
   },
   "file_extension": ".py",
   "mimetype": "text/x-python",
   "name": "python",
   "nbconvert_exporter": "python",
   "pygments_lexer": "ipython3",
   "version": "3.8.10"
  }
 },
 "nbformat": 4,
 "nbformat_minor": 2
}
